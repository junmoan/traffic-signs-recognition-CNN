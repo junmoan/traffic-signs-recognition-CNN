{
  "nbformat": 4,
  "nbformat_minor": 0,
  "metadata": {
    "colab": {
      "name": "Traffic_Signs_Recognition_CNN.ipynb",
      "provenance": [],
      "collapsed_sections": []
    },
    "kernelspec": {
      "name": "python3",
      "display_name": "Python 3"
    },
    "accelerator": "TPU"
  },
  "cells": [
    {
      "cell_type": "code",
      "metadata": {
        "id": "ZYJfhiRzk27Z",
        "colab_type": "code",
        "outputId": "f784e6a4-5f58-44ab-cc6a-4042ffe50bf1",
        "colab": {
          "base_uri": "https://localhost:8080/",
          "height": 34
        }
      },
      "source": [
        "# Import the machine learning libraries.\n",
        "import numpy as np \n",
        "import pandas as pd \n",
        "import matplotlib.pyplot as plt\n",
        "import cv2\n",
        "import tensorflow as tf\n",
        "from PIL import Image\n",
        "import os\n",
        "from sklearn.model_selection import train_test_split\n",
        "from keras.utils import to_categorical\n",
        "from keras.models import Sequential, load_model\n",
        "from keras.layers import Conv2D, MaxPool2D, Dense, Flatten, Dropout"
      ],
      "execution_count": 0,
      "outputs": [
        {
          "output_type": "stream",
          "text": [
            "Using TensorFlow backend.\n"
          ],
          "name": "stderr"
        }
      ]
    },
    {
      "cell_type": "code",
      "metadata": {
        "id": "M1oQHWRde1F2",
        "colab_type": "code",
        "colab": {}
      },
      "source": [
        "data = []\n",
        "labels = []\n",
        "classes = 43\n",
        "cur_path = '/content/drive/My Drive/ML_Code/Traffic Signs Recognition'"
      ],
      "execution_count": 0,
      "outputs": []
    },
    {
      "cell_type": "code",
      "metadata": {
        "id": "AgkODSTVe5k2",
        "colab_type": "code",
        "outputId": "8d0a8e92-27fb-417d-e9ce-5de179f82a57",
        "colab": {
          "base_uri": "https://localhost:8080/",
          "height": 748
        }
      },
      "source": [
        "# Retrieve the images and their labels.\n",
        "for i in range(classes):\n",
        "    path = os.path.join(cur_path,'Train',str(i))\n",
        "    print(i)\n",
        "    images = os.listdir(path)\n",
        "    for a in images:\n",
        "        try:\n",
        "            image = Image.open(path + '/' + a)\n",
        "            image = image.resize((30,30))\n",
        "            image = np.array(image)\n",
        "            #sim = Image.fromarray(image)\n",
        "            data.append(image)\n",
        "            labels.append(i)\n",
        "        except:\n",
        "            print(\"Error loading image\")"
      ],
      "execution_count": 0,
      "outputs": [
        {
          "output_type": "stream",
          "text": [
            "0\n",
            "1\n",
            "2\n",
            "3\n",
            "4\n",
            "5\n",
            "6\n",
            "7\n",
            "8\n",
            "9\n",
            "10\n",
            "11\n",
            "12\n",
            "13\n",
            "14\n",
            "15\n",
            "16\n",
            "17\n",
            "18\n",
            "19\n",
            "20\n",
            "21\n",
            "22\n",
            "23\n",
            "24\n",
            "25\n",
            "26\n",
            "27\n",
            "28\n",
            "29\n",
            "30\n",
            "31\n",
            "32\n",
            "33\n",
            "34\n",
            "35\n",
            "36\n",
            "37\n",
            "38\n",
            "39\n",
            "40\n",
            "41\n",
            "42\n"
          ],
          "name": "stdout"
        }
      ]
    },
    {
      "cell_type": "code",
      "metadata": {
        "id": "791ERufng9UE",
        "colab_type": "code",
        "colab": {}
      },
      "source": [
        "# Convert lists into numpy arrays\n",
        "data = np.array(data)\n",
        "labels = np.array(labels)"
      ],
      "execution_count": 0,
      "outputs": []
    },
    {
      "cell_type": "code",
      "metadata": {
        "id": "jdYXfiIZiGFm",
        "colab_type": "code",
        "outputId": "95f03e4c-5e95-43d3-df1e-180ecd3e55d0",
        "colab": {
          "base_uri": "https://localhost:8080/",
          "height": 34
        }
      },
      "source": [
        "print(data.shape, labels.shape)"
      ],
      "execution_count": 0,
      "outputs": [
        {
          "output_type": "stream",
          "text": [
            "(39209, 30, 30, 3) (39209,)\n"
          ],
          "name": "stdout"
        }
      ]
    },
    {
      "cell_type": "code",
      "metadata": {
        "id": "pM3V_lgoiGCU",
        "colab_type": "code",
        "outputId": "166bd566-b84e-4b87-d03b-261c4694336e",
        "colab": {
          "base_uri": "https://localhost:8080/",
          "height": 34
        }
      },
      "source": [
        "# Split the dataset into the training set and test subsets.\n",
        "X_train, X_test, y_train, y_test = train_test_split(data, labels, test_size=0.2, random_state=0)\n",
        "print(X_train.shape, X_test.shape, y_train.shape, y_test.shape)"
      ],
      "execution_count": 0,
      "outputs": [
        {
          "output_type": "stream",
          "text": [
            "(31367, 30, 30, 3) (7842, 30, 30, 3) (31367,) (7842,)\n"
          ],
          "name": "stdout"
        }
      ]
    },
    {
      "cell_type": "code",
      "metadata": {
        "id": "SvwZ9rT7iU2W",
        "colab_type": "code",
        "colab": {}
      },
      "source": [
        "# Convert the labels into one-hot encoding.\n",
        "y_train = to_categorical(y_train, 43)\n",
        "y_test = to_categorical(y_test, 43)"
      ],
      "execution_count": 0,
      "outputs": []
    },
    {
      "cell_type": "code",
      "metadata": {
        "id": "VBgfnkK8jkBd",
        "colab_type": "code",
        "colab": {}
      },
      "source": [
        "# Build the model.\n",
        "model = Sequential()\n",
        "model.add(Conv2D(filters=32, kernel_size=(5,5), activation='relu', input_shape=X_train.shape[1:]))\n",
        "model.add(Conv2D(filters=32, kernel_size=(5,5), activation='relu'))\n",
        "model.add(MaxPool2D(pool_size=(2, 2)))\n",
        "model.add(Dropout(rate=0.25))\n",
        "model.add(Conv2D(filters=64, kernel_size=(3, 3), activation='relu'))\n",
        "model.add(Conv2D(filters=64, kernel_size=(3, 3), activation='relu'))\n",
        "model.add(MaxPool2D(pool_size=(2, 2)))\n",
        "model.add(Dropout(rate=0.25))\n",
        "model.add(Flatten())\n",
        "model.add(Dense(256, activation='relu'))\n",
        "model.add(Dropout(rate=0.5))\n",
        "model.add(Dense(43, activation='softmax'))"
      ],
      "execution_count": 0,
      "outputs": []
    },
    {
      "cell_type": "code",
      "metadata": {
        "id": "ZKlTDeOjj5Xz",
        "colab_type": "code",
        "colab": {}
      },
      "source": [
        "# Compile the model.\n",
        "model.compile(loss='categorical_crossentropy', optimizer='adam', metrics=['accuracy'])"
      ],
      "execution_count": 0,
      "outputs": []
    },
    {
      "cell_type": "code",
      "metadata": {
        "id": "W5IyXwvpkDb-",
        "colab_type": "code",
        "outputId": "2e0fe71f-067b-4cea-f7c6-eec46c19dc3e",
        "colab": {
          "base_uri": "https://localhost:8080/",
          "height": 564
        }
      },
      "source": [
        "epochs = 15\n",
        "history = model.fit(X_train, y_train, batch_size=32, epochs=epochs, validation_data=(X_test, y_test))"
      ],
      "execution_count": 0,
      "outputs": [
        {
          "output_type": "stream",
          "text": [
            "Train on 31367 samples, validate on 7842 samples\n",
            "Epoch 1/15\n",
            "31367/31367 [==============================] - 134s 4ms/step - loss: 1.7849 - accuracy: 0.5576 - val_loss: 0.4219 - val_accuracy: 0.8930\n",
            "Epoch 2/15\n",
            "31367/31367 [==============================] - 133s 4ms/step - loss: 0.5905 - accuracy: 0.8322 - val_loss: 0.1654 - val_accuracy: 0.9596\n",
            "Epoch 3/15\n",
            "31367/31367 [==============================] - 132s 4ms/step - loss: 0.4400 - accuracy: 0.8727 - val_loss: 0.1288 - val_accuracy: 0.9674\n",
            "Epoch 4/15\n",
            "31367/31367 [==============================] - 136s 4ms/step - loss: 0.3452 - accuracy: 0.9028 - val_loss: 0.0736 - val_accuracy: 0.9814\n",
            "Epoch 5/15\n",
            "31367/31367 [==============================] - 132s 4ms/step - loss: 0.2953 - accuracy: 0.9162 - val_loss: 0.1040 - val_accuracy: 0.9727\n",
            "Epoch 6/15\n",
            "31367/31367 [==============================] - 132s 4ms/step - loss: 0.2939 - accuracy: 0.9192 - val_loss: 0.0636 - val_accuracy: 0.9818\n",
            "Epoch 7/15\n",
            "31367/31367 [==============================] - 132s 4ms/step - loss: 0.2606 - accuracy: 0.9286 - val_loss: 0.0739 - val_accuracy: 0.9807\n",
            "Epoch 8/15\n",
            "31367/31367 [==============================] - 133s 4ms/step - loss: 0.2475 - accuracy: 0.9317 - val_loss: 0.0978 - val_accuracy: 0.9739\n",
            "Epoch 9/15\n",
            "31367/31367 [==============================] - 136s 4ms/step - loss: 0.2588 - accuracy: 0.9295 - val_loss: 0.0514 - val_accuracy: 0.9855\n",
            "Epoch 10/15\n",
            "31367/31367 [==============================] - 132s 4ms/step - loss: 0.2262 - accuracy: 0.9401 - val_loss: 0.0527 - val_accuracy: 0.9857\n",
            "Epoch 11/15\n",
            "31367/31367 [==============================] - 132s 4ms/step - loss: 0.2566 - accuracy: 0.9320 - val_loss: 0.0450 - val_accuracy: 0.9871\n",
            "Epoch 12/15\n",
            "31367/31367 [==============================] - 132s 4ms/step - loss: 0.2494 - accuracy: 0.9358 - val_loss: 0.0550 - val_accuracy: 0.9841\n",
            "Epoch 13/15\n",
            "31367/31367 [==============================] - 137s 4ms/step - loss: 0.2108 - accuracy: 0.9429 - val_loss: 0.0663 - val_accuracy: 0.9837\n",
            "Epoch 14/15\n",
            "31367/31367 [==============================] - 133s 4ms/step - loss: 0.2332 - accuracy: 0.9411 - val_loss: 0.0480 - val_accuracy: 0.9871\n",
            "Epoch 15/15\n",
            "31367/31367 [==============================] - 134s 4ms/step - loss: 0.2208 - accuracy: 0.9423 - val_loss: 0.0748 - val_accuracy: 0.9815\n"
          ],
          "name": "stdout"
        }
      ]
    },
    {
      "cell_type": "code",
      "metadata": {
        "id": "kpi2CDXZknRb",
        "colab_type": "code",
        "outputId": "b62b4c7a-9511-4f5b-d615-0bdbd24d0c06",
        "colab": {
          "base_uri": "https://localhost:8080/",
          "height": 573
        }
      },
      "source": [
        "# Plot graphs for accuracy.\n",
        "plt.figure(0)\n",
        "plt.plot(history.history['accuracy'], label='training accuracy')\n",
        "plt.plot(history.history['val_accuracy'], label='val accuracy')\n",
        "plt.title('Accuracy')\n",
        "plt.xlabel('epochs')\n",
        "plt.ylabel('accuracy')\n",
        "plt.legend()\n",
        "plt.show()\n",
        "plt.figure(1)\n",
        "plt.plot(history.history['loss'], label='training loss')\n",
        "plt.plot(history.history['val_loss'], label='val loss')\n",
        "plt.title('Loss')\n",
        "plt.xlabel('epochs')\n",
        "plt.ylabel('loss')\n",
        "plt.legend()\n",
        "plt.show()"
      ],
      "execution_count": 0,
      "outputs": [
        {
          "output_type": "display_data",
          "data": {
            "image/png": "[encoded data removed]",
            "text/plain": [
              "<Figure size 432x288 with 1 Axes>"
            ]
          },
          "metadata": {
            "tags": [],
            "needs_background": "light"
          }
        },
        {
          "output_type": "display_data",
          "data": {
            "image/png": "[encoded data removed]",
            "text/plain": [
              "<Figure size 432x288 with 1 Axes>"
            ]
          },
          "metadata": {
            "tags": [],
            "needs_background": "light"
          }
        }
      ]
    },
    {
      "cell_type": "code",
      "metadata": {
        "id": "t-aKL2Z_kx9L",
        "colab_type": "code",
        "colab": {}
      },
      "source": [
        "from sklearn.metrics import accuracy_score"
      ],
      "execution_count": 0,
      "outputs": []
    },
    {
      "cell_type": "code",
      "metadata": {
        "id": "dwF6YuR5mdvr",
        "colab_type": "code",
        "colab": {}
      },
      "source": [
        "y_test = pd.read_csv(cur_path + '/' + 'Test.csv')"
      ],
      "execution_count": 0,
      "outputs": []
    },
    {
      "cell_type": "code",
      "metadata": {
        "id": "X4gbTSh7nO_C",
        "colab_type": "code",
        "colab": {}
      },
      "source": [
        "labels = y_test[\"ClassId\"].values\n",
        "imgs = y_test[\"Path\"].values"
      ],
      "execution_count": 0,
      "outputs": []
    },
    {
      "cell_type": "code",
      "metadata": {
        "id": "JaAvp5runUCt",
        "colab_type": "code",
        "colab": {}
      },
      "source": [
        "data=[]\n",
        "for img in imgs:\n",
        "    image = Image.open(cur_path + '/' + img)\n",
        "    image = image.resize((30,30))\n",
        "    data.append(np.array(image))"
      ],
      "execution_count": 0,
      "outputs": []
    },
    {
      "cell_type": "code",
      "metadata": {
        "id": "6HtJhvI7nm00",
        "colab_type": "code",
        "outputId": "a17bc651-4ee4-4d25-ebf3-db19f004f492",
        "colab": {
          "base_uri": "https://localhost:8080/",
          "height": 34
        }
      },
      "source": [
        "X_test = np.array(data)\n",
        "print(X_test.shape)"
      ],
      "execution_count": 0,
      "outputs": [
        {
          "output_type": "stream",
          "text": [
            "(12630, 30, 30, 3)\n"
          ],
          "name": "stdout"
        }
      ]
    },
    {
      "cell_type": "code",
      "metadata": {
        "id": "AFic-Ye9nm_A",
        "colab_type": "code",
        "colab": {}
      },
      "source": [
        "pred = model.predict_classes(X_test)"
      ],
      "execution_count": 0,
      "outputs": []
    },
    {
      "cell_type": "code",
      "metadata": {
        "id": "9B9dFK6imd7o",
        "colab_type": "code",
        "outputId": "49f0da21-9005-4f25-f732-b7955846f93f",
        "colab": {
          "base_uri": "https://localhost:8080/",
          "height": 51
        }
      },
      "source": [
        "from sklearn.metrics import accuracy_score\n",
        "# Print accuracy.\n",
        "print(\"Accuracy:\", accuracy_score(labels, pred), \"\\n\")"
      ],
      "execution_count": 0,
      "outputs": [
        {
          "output_type": "stream",
          "text": [
            "Accuracy: 0.9403800475059383 \n",
            "\n"
          ],
          "name": "stdout"
        }
      ]
    },
    {
      "cell_type": "code",
      "metadata": {
        "id": "Lh_qFP_fTHYB",
        "colab_type": "code",
        "colab": {}
      },
      "source": [
        "model.save(cur_path + '/' +'traffic_signs_classifier.h5')"
      ],
      "execution_count": 0,
      "outputs": []
    },
    {
      "cell_type": "code",
      "metadata": {
        "id": "1wxwenwvTTRB",
        "colab_type": "code",
        "colab": {}
      },
      "source": [
        ""
      ],
      "execution_count": 0,
      "outputs": []
    }
  ]
}